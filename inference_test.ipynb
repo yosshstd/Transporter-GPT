{
 "cells": [
  {
   "cell_type": "code",
   "execution_count": null,
   "metadata": {},
   "outputs": [
    {
     "name": "stderr",
     "output_type": "stream",
     "text": [
      "/home/yosshstd/anaconda3/envs/unsloth_env/lib/python3.12/site-packages/tqdm/auto.py:21: TqdmWarning: IProgress not found. Please update jupyter and ipywidgets. See https://ipywidgets.readthedocs.io/en/stable/user_install.html\n",
      "  from .autonotebook import tqdm as notebook_tqdm\n"
     ]
    }
   ],
   "source": [
    "# 必要なライブラリをインポート\n",
    "import torch\n",
    "from transformers import GenerationConfig\n",
    "from transformers import LlamaForCausalLM, LlamaTokenizer\n",
    "\n",
    "device = torch.device(\"cuda\" if torch.cuda.is_available() else \"cpu\")\n",
    "MODEL_PATH = \"stored_output/checkpoint-2epoch\""
   ]
  },
  {
   "cell_type": "code",
   "execution_count": 3,
   "metadata": {},
   "outputs": [
    {
     "name": "stderr",
     "output_type": "stream",
     "text": [
      "Loading checkpoint shards: 100%|██████████| 2/2 [00:16<00:00,  8.11s/it]\n"
     ]
    },
    {
     "data": {
      "text/plain": [
       "LlamaForCausalLM(\n",
       "  (model): LlamaModel(\n",
       "    (embed_tokens): ModulesToSaveWrapper(\n",
       "      (original_module): Embedding(32000, 4096, padding_idx=0)\n",
       "      (modules_to_save): ModuleDict(\n",
       "        (default): Embedding(32000, 4096, padding_idx=0)\n",
       "      )\n",
       "    )\n",
       "    (layers): ModuleList(\n",
       "      (0-31): 32 x LlamaDecoderLayer(\n",
       "        (self_attn): LlamaAttention(\n",
       "          (q_proj): lora.Linear(\n",
       "            (base_layer): Linear(in_features=4096, out_features=4096, bias=False)\n",
       "            (lora_dropout): ModuleDict(\n",
       "              (default): Identity()\n",
       "            )\n",
       "            (lora_A): ModuleDict(\n",
       "              (default): Linear(in_features=4096, out_features=64, bias=False)\n",
       "            )\n",
       "            (lora_B): ModuleDict(\n",
       "              (default): Linear(in_features=64, out_features=4096, bias=False)\n",
       "            )\n",
       "            (lora_embedding_A): ParameterDict()\n",
       "            (lora_embedding_B): ParameterDict()\n",
       "            (lora_magnitude_vector): ModuleDict()\n",
       "          )\n",
       "          (k_proj): lora.Linear(\n",
       "            (base_layer): Linear(in_features=4096, out_features=4096, bias=False)\n",
       "            (lora_dropout): ModuleDict(\n",
       "              (default): Identity()\n",
       "            )\n",
       "            (lora_A): ModuleDict(\n",
       "              (default): Linear(in_features=4096, out_features=64, bias=False)\n",
       "            )\n",
       "            (lora_B): ModuleDict(\n",
       "              (default): Linear(in_features=64, out_features=4096, bias=False)\n",
       "            )\n",
       "            (lora_embedding_A): ParameterDict()\n",
       "            (lora_embedding_B): ParameterDict()\n",
       "            (lora_magnitude_vector): ModuleDict()\n",
       "          )\n",
       "          (v_proj): lora.Linear(\n",
       "            (base_layer): Linear(in_features=4096, out_features=4096, bias=False)\n",
       "            (lora_dropout): ModuleDict(\n",
       "              (default): Identity()\n",
       "            )\n",
       "            (lora_A): ModuleDict(\n",
       "              (default): Linear(in_features=4096, out_features=64, bias=False)\n",
       "            )\n",
       "            (lora_B): ModuleDict(\n",
       "              (default): Linear(in_features=64, out_features=4096, bias=False)\n",
       "            )\n",
       "            (lora_embedding_A): ParameterDict()\n",
       "            (lora_embedding_B): ParameterDict()\n",
       "            (lora_magnitude_vector): ModuleDict()\n",
       "          )\n",
       "          (o_proj): lora.Linear(\n",
       "            (base_layer): Linear(in_features=4096, out_features=4096, bias=False)\n",
       "            (lora_dropout): ModuleDict(\n",
       "              (default): Identity()\n",
       "            )\n",
       "            (lora_A): ModuleDict(\n",
       "              (default): Linear(in_features=4096, out_features=64, bias=False)\n",
       "            )\n",
       "            (lora_B): ModuleDict(\n",
       "              (default): Linear(in_features=64, out_features=4096, bias=False)\n",
       "            )\n",
       "            (lora_embedding_A): ParameterDict()\n",
       "            (lora_embedding_B): ParameterDict()\n",
       "            (lora_magnitude_vector): ModuleDict()\n",
       "          )\n",
       "        )\n",
       "        (mlp): LlamaMLP(\n",
       "          (gate_proj): lora.Linear(\n",
       "            (base_layer): Linear(in_features=4096, out_features=11008, bias=False)\n",
       "            (lora_dropout): ModuleDict(\n",
       "              (default): Identity()\n",
       "            )\n",
       "            (lora_A): ModuleDict(\n",
       "              (default): Linear(in_features=4096, out_features=64, bias=False)\n",
       "            )\n",
       "            (lora_B): ModuleDict(\n",
       "              (default): Linear(in_features=64, out_features=11008, bias=False)\n",
       "            )\n",
       "            (lora_embedding_A): ParameterDict()\n",
       "            (lora_embedding_B): ParameterDict()\n",
       "            (lora_magnitude_vector): ModuleDict()\n",
       "          )\n",
       "          (up_proj): lora.Linear(\n",
       "            (base_layer): Linear(in_features=4096, out_features=11008, bias=False)\n",
       "            (lora_dropout): ModuleDict(\n",
       "              (default): Identity()\n",
       "            )\n",
       "            (lora_A): ModuleDict(\n",
       "              (default): Linear(in_features=4096, out_features=64, bias=False)\n",
       "            )\n",
       "            (lora_B): ModuleDict(\n",
       "              (default): Linear(in_features=64, out_features=11008, bias=False)\n",
       "            )\n",
       "            (lora_embedding_A): ParameterDict()\n",
       "            (lora_embedding_B): ParameterDict()\n",
       "            (lora_magnitude_vector): ModuleDict()\n",
       "          )\n",
       "          (down_proj): lora.Linear(\n",
       "            (base_layer): Linear(in_features=11008, out_features=4096, bias=False)\n",
       "            (lora_dropout): ModuleDict(\n",
       "              (default): Identity()\n",
       "            )\n",
       "            (lora_A): ModuleDict(\n",
       "              (default): Linear(in_features=11008, out_features=64, bias=False)\n",
       "            )\n",
       "            (lora_B): ModuleDict(\n",
       "              (default): Linear(in_features=64, out_features=4096, bias=False)\n",
       "            )\n",
       "            (lora_embedding_A): ParameterDict()\n",
       "            (lora_embedding_B): ParameterDict()\n",
       "            (lora_magnitude_vector): ModuleDict()\n",
       "          )\n",
       "          (act_fn): SiLU()\n",
       "        )\n",
       "        (input_layernorm): LlamaRMSNorm((4096,), eps=1e-05)\n",
       "        (post_attention_layernorm): LlamaRMSNorm((4096,), eps=1e-05)\n",
       "      )\n",
       "    )\n",
       "    (norm): LlamaRMSNorm((4096,), eps=1e-05)\n",
       "    (rotary_emb): LlamaRotaryEmbedding()\n",
       "  )\n",
       "  (lm_head): ModulesToSaveWrapper(\n",
       "    (original_module): Linear(in_features=4096, out_features=32000, bias=False)\n",
       "    (modules_to_save): ModuleDict(\n",
       "      (default): Linear(in_features=4096, out_features=32000, bias=False)\n",
       "    )\n",
       "  )\n",
       ")"
      ]
     },
     "execution_count": 3,
     "metadata": {},
     "output_type": "execute_result"
    }
   ],
   "source": [
    "# モデルとトークナイザーの読み込み\n",
    "model = LlamaForCausalLM.from_pretrained(\n",
    "    MODEL_PATH,\n",
    "    torch_dtype=torch.bfloat16,\n",
    "    low_cpu_mem_usage=True,\n",
    "    device_map='auto',\n",
    "    quantization_config=None\n",
    ")\n",
    "tokenizer = LlamaTokenizer.from_pretrained(MODEL_PATH)\n",
    "\n",
    "model.eval() # 推論モード設定"
   ]
  },
  {
   "cell_type": "code",
   "execution_count": 4,
   "metadata": {},
   "outputs": [],
   "source": [
    "generation_config = GenerationConfig(\n",
    "    temperature=0.2,    # 出力の多様性を制御（低いほど決定論的）\n",
    "    top_k=40,          # トップKのトークンのみを考慮\n",
    "    top_p=0.9,         # 累積確率がこの値を超えるまでのトークンを考慮\n",
    "    do_sample=True,    # ランダムサンプリングを有効化\n",
    "    num_beams=1,       # ビーム探索の数\n",
    "    repetition_penalty=1.2,  # 繰り返しを抑制\n",
    "    max_new_tokens=900      # 生成する最大トークン数\n",
    ")"
   ]
  },
  {
   "cell_type": "code",
   "execution_count": 59,
   "metadata": {},
   "outputs": [
    {
     "name": "stdout",
     "output_type": "stream",
     "text": [
      "Seq=<MKQYNVTGMSCAACSARVEKAVSKVDGVSSCSVSLLTNSMGVEGDADPAAIIRAVEEAGYGAALKEAASNRTESEGESAHSDDSLKDTETPKIRNRLIWSIVFLIPLMYISMGHTMWGWPVPAFMQDNHLGMGLVQMLLTIIIMIINRKFFVSGSFKSLAHRAPNMDTLVALGSGTSFLYSITALLMTATAMTTHMAAEAGEDRVMYYEMTVVIFAIVVPLGHHWSKERAKTPANIAILGGIGTFLLSMGSTLPGNFTLMDFFSMMVTMNLPEVAIFVFEAVAQCIEDRGRRIEVRSFM>\n"
     ]
    }
   ],
   "source": [
    "# 生成したいアミノ酸配列の条件付け\n",
    "input_text = \"[Generate by Substrate] Substrate=<copper(1+)>\"\n",
    "# トークン化\n",
    "inputs = tokenizer(input_text, return_tensors=\"pt\")\n",
    "\n",
    "# テキスト生成\n",
    "with torch.no_grad():\n",
    "    outputs = model.generate(\n",
    "        input_ids = inputs[\"input_ids\"].to(device),\n",
    "        attention_mask = inputs['attention_mask'].to(device),\n",
    "        eos_token_id=tokenizer.eos_token_id,\n",
    "        pad_token_id=tokenizer.pad_token_id,\n",
    "        generation_config = generation_config,\n",
    "        return_dict_in_generate=True,\n",
    "        output_attentions=False\n",
    "    )\n",
    "\n",
    "# 生成されたテキストをデコード\n",
    "s = outputs[\"sequences\"][0]\n",
    "output = tokenizer.decode(s, skip_special_tokens=True)\n",
    "output = output.replace(\"</s>\", \"\")\n",
    "print(output.replace(input_text, \"\").strip())"
   ]
  },
  {
   "cell_type": "code",
   "execution_count": 61,
   "metadata": {},
   "outputs": [
    {
     "name": "stdout",
     "output_type": "stream",
     "text": [
      "Substrate=<copper(1+)>\n"
     ]
    }
   ],
   "source": [
    "# 予測したいアミノ酸配列\n",
    "input_text = \"[Determine Substrate] Seq=<MSQTISLALEGLSCGHCVKRVKEALEQRADVEQASVTQQEAQVTGSADAAALIATVEAAGYHATLSGDRHPKPEPLTASEPPPEALTTVAETQPAQQSDAAQFLLIEGMSCASCVSRVEKALEKVPGVTQARVNLGERSALVMGDAAASQLVEAVEAAGYQAQPVQDEQERRDKQQSSARRAMRRFSWQAALALALGAPLMVWGMLGDNMMLSDDNRTLWLVIGGVTLLVMIVAGGHFFRSAWRSLRNGSATMDTLVALGTAAAWLYSFSVALWPDFFPMQARHLYFEASVMIIGLINLGHALEQRARQRSSKALERLLDLTPAQARLIDEQGEMLVPLSAVRPGMTLRLTTGDRVPVDGEIKDGEAWLDEAMLTGEAVPQSKRAGDKVYAGTLVQDGAVRFVARATGEQTALARIIYLVRQAQSSKPDVGRLADRISAVFVPVVVAIALISAAIWYLFGPQPQIAYTLVVATTVLIIACPCALGLATPMSIIAGVGRAAELGVLVRDADALQRASRIDTLVFDKTGTLTTGRPQVDEVLSWNGASRESVLQHAAALEKNASHPLAQAIVAAAETANHHEIAQFRTIRGKGVSGILDGKPLLLGNAALMQDNQIALHDAQSDIERLSRQGATPVLLAQNGELVGLIALRDGLRPESQAALHRLRQSGYRLMMLTGDREETARAIAQQAGIDEVIAGVLPEAKAQAVARLQQQGRRVAMVGDGINDAPALAQADVGIAMGGGSDVAVETAPITLMRADLNSVADALALASATLRNIRQNLLGAFIYNSLGIPLAAGALYPLTGALLSPVVAGAAMALSSITVVSNANRLLRYRPTRDDRR>\"\n",
    "# トークン化\n",
    "inputs = tokenizer(input_text, return_tensors=\"pt\")\n",
    "\n",
    "# テキスト生成\n",
    "with torch.no_grad():\n",
    "    outputs = model.generate(\n",
    "        input_ids = inputs[\"input_ids\"].to(device),\n",
    "        attention_mask = inputs['attention_mask'].to(device),\n",
    "        eos_token_id=tokenizer.eos_token_id,\n",
    "        pad_token_id=tokenizer.pad_token_id,\n",
    "        generation_config = generation_config,\n",
    "        return_dict_in_generate=True,\n",
    "        output_attentions=False\n",
    "    )\n",
    "\n",
    "# 生成されたテキストをデコード\n",
    "s = outputs[\"sequences\"][0]\n",
    "output = tokenizer.decode(s, skip_special_tokens=True)\n",
    "output = output.replace(\"</s>\", \"\")\n",
    "print(output.replace(input_text, \"\").strip())"
   ]
  },
  {
   "cell_type": "code",
   "execution_count": 56,
   "metadata": {},
   "outputs": [
    {
     "name": "stdout",
     "output_type": "stream",
     "text": [
      "Average pLDDT (generated): 0.851\n"
     ]
    }
   ],
   "source": [
    "from Bio.PDB import PDBParser\n",
    "\n",
    "def get_average_plddt(pdb_file):\n",
    "    parser = PDBParser()\n",
    "    structure = parser.get_structure(\"protein\", pdb_file)\n",
    "    plddts = []\n",
    "    for model in structure:\n",
    "        for chain in model:\n",
    "            for residue in chain:\n",
    "                if \"CA\" in residue:  # CA原子が存在する場合(アミノ酸残基)\n",
    "                    plddts.append(residue[\"CA\"].get_bfactor()) # B-factorがpLDDT\n",
    "    return sum(plddts) / len(plddts)\n",
    "\n",
    "predicted_pdb_file = \"esmfold_1742705160441.pdb\"  # AlphaFold2 の出力 PDB ファイル\n",
    "avg_plddt = get_average_plddt(predicted_pdb_file)\n",
    "print(f\"Average pLDDT (generated): {avg_plddt:.3f}\")"
   ]
  }
 ],
 "metadata": {
  "kernelspec": {
   "display_name": "unsloth_env",
   "language": "python",
   "name": "python3"
  },
  "language_info": {
   "codemirror_mode": {
    "name": "ipython",
    "version": 3
   },
   "file_extension": ".py",
   "mimetype": "text/x-python",
   "name": "python",
   "nbconvert_exporter": "python",
   "pygments_lexer": "ipython3",
   "version": "3.12.0"
  }
 },
 "nbformat": 4,
 "nbformat_minor": 2
}
